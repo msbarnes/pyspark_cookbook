{
 "cells": [
  {
   "cell_type": "markdown",
   "metadata": {},
   "source": [
    "# PySpark Cookbook\n",
    "\n",
    "Since 'Spark: The Definitive Guide' can be lacking detail or examples, and I frequently find myself needing to look up how to do something (especially if I've been working a lot in pandas), I'm writing this cookbook with snippets. Regular updates to follow, including a cookbook (and a benchmarking blog post to follow) on Spark ML. "
   ]
  },
  {
   "cell_type": "markdown",
   "metadata": {},
   "source": [
    "# Select"
   ]
  },
  {
   "cell_type": "markdown",
   "metadata": {},
   "source": [
    "# Count and Count Distinct\n",
    "\n",
    "To perform counts in PySpark:\n",
    "\n",
    "`df.count()`\n",
    "\n",
    "To perform count distinct, you can select on one or many columns:\n",
    "\n",
    "`df.select('column1').distinct().count()`\n",
    "\n",
    "or\n",
    "\n",
    "`df.select('column1', 'column2').distinct().count()`"
   ]
  },
  {
   "cell_type": "markdown",
   "metadata": {},
   "source": [
    "# Counting Null Values\n",
    "\n",
    "To count null values or missing values:\n",
    "\n",
    "`df.select([count(when(isnan(c) | col(c).isNull(), c)).alias(c) for c in df.columns]).show()`"
   ]
  },
  {
   "cell_type": "markdown",
   "metadata": {},
   "source": [
    "# Filtering"
   ]
  },
  {
   "cell_type": "markdown",
   "metadata": {},
   "source": [
    "# Sorting"
   ]
  },
  {
   "cell_type": "markdown",
   "metadata": {},
   "source": [
    "# Aggregations"
   ]
  },
  {
   "cell_type": "markdown",
   "metadata": {},
   "source": [
    "# Joins"
   ]
  },
  {
   "cell_type": "markdown",
   "metadata": {},
   "source": []
  }
 ],
 "metadata": {
  "kernelspec": {
   "display_name": "Python 3",
   "language": "python",
   "name": "python3"
  },
  "language_info": {
   "codemirror_mode": {
    "name": "ipython",
    "version": 3
   },
   "file_extension": ".py",
   "mimetype": "text/x-python",
   "name": "python",
   "nbconvert_exporter": "python",
   "pygments_lexer": "ipython3",
   "version": "3.6.8"
  }
 },
 "nbformat": 4,
 "nbformat_minor": 2
}
